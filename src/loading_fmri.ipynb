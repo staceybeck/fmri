{
 "cells": [
  {
   "cell_type": "code",
   "execution_count": 28,
   "metadata": {
    "collapsed": true,
    "pycharm": {
     "is_executing": false
    }
   },
   "outputs": [
    {
     "name": "stdout",
     "text": [
      "Requirement already satisfied: nibabel in /Users/staceyrivet/Desktop/projects/fmri/venv/lib/python3.7/site-packages (3.2.2)\r\nRequirement already satisfied: setuptools in /Users/staceyrivet/Desktop/projects/fmri/venv/lib/python3.7/site-packages/setuptools-40.8.0-py3.7.egg (from nibabel) (40.8.0)\r\nRequirement already satisfied: numpy>=1.14 in /Users/staceyrivet/Desktop/projects/fmri/venv/lib/python3.7/site-packages (from nibabel) (1.21.5)\r\nRequirement already satisfied: packaging>=14.3 in /Users/staceyrivet/Desktop/projects/fmri/venv/lib/python3.7/site-packages (from nibabel) (21.3)\r\nRequirement already satisfied: pyparsing!=3.0.5,>=2.0.2 in /Users/staceyrivet/Desktop/projects/fmri/venv/lib/python3.7/site-packages (from packaging>=14.3->nibabel) (3.0.7)\r\n",
      "Note: you may need to restart the kernel to use updated packages.\n"
     ],
     "output_type": "stream"
    }
   ],
   "source": [
    "pip install nibabel"
   ]
  },
  {
   "cell_type": "code",
   "execution_count": 30,
   "outputs": [
    {
     "name": "stdout",
     "text": [
      "/Users/staceyrivet/Desktop/projects/fmri/fmri/src\r\n"
     ],
     "output_type": "stream"
    }
   ],
   "source": [
    "!pwd\n",
    "\n",
    "from load import load_data"
   ],
   "metadata": {
    "collapsed": false,
    "pycharm": {
     "name": "#%%\n",
     "is_executing": false
    }
   }
  },
  {
   "cell_type": "code",
   "execution_count": 32,
   "outputs": [],
   "source": [
    "# Load in data from path\n",
    "path = '/Users/staceyrivet/Desktop/projects/fmri/fmri/data/ds001_R2.0.4/sub-01/func/sub-01_task-balloonanalogrisktask_run-01_bold.nii.gz'\n",
    "\n",
    "img = load_data(path)"
   ],
   "metadata": {
    "collapsed": false,
    "pycharm": {
     "name": "#%%\n",
     "is_executing": false
    }
   }
  },
  {
   "cell_type": "code",
   "execution_count": 33,
   "outputs": [
    {
     "data": {
      "text/plain": "(64, 64, 33, 300)"
     },
     "metadata": {},
     "output_type": "execute_result",
     "execution_count": 33
    }
   ],
   "source": [
    "img.shape\n"
   ],
   "metadata": {
    "collapsed": false,
    "pycharm": {
     "name": "#%%\n",
     "is_executing": false
    }
   }
  },
  {
   "cell_type": "code",
   "execution_count": 15,
   "outputs": [
    {
     "data": {
      "text/plain": "True"
     },
     "metadata": {},
     "output_type": "execute_result",
     "execution_count": 15
    }
   ],
   "source": [
    "img.get_data_dtype() == np.dtype(np.int16)"
   ],
   "metadata": {
    "collapsed": false,
    "pycharm": {
     "name": "#%%\n",
     "is_executing": false
    }
   }
  },
  {
   "cell_type": "code",
   "execution_count": 16,
   "outputs": [
    {
     "data": {
      "text/plain": "array([[  -3.125     ,    0.        ,    0.        ,   99.60421753],\n       [   0.        ,    3.125     ,    0.        , -110.1322403 ],\n       [   0.        ,    0.        ,    4.        ,  -54.88586807],\n       [   0.        ,    0.        ,    0.        ,    1.        ]])"
     },
     "metadata": {},
     "output_type": "execute_result",
     "execution_count": 16
    }
   ],
   "source": [
    "\"\"\" AFFINE: relating voxel coordinates to world coordinates in RAS+ space \n",
    "RAS+ space : RAS+ reference space is a “real-world” space, in the sense that a coordinate in this space refers to a position in the real world\n",
    "A nibabel (and nipy) image is the association of three things:\n",
    "The image data array: a 3D or 4D array of image data\n",
    "An affine array that tells you the position of the image array data in a reference space.\n",
    "image metadata (data about the data) describing the image, usually in the form of an image header.\n",
    "This document describes how the affine array describes the position of the image data in a reference space. On the way we will define what we mean by reference space, and the reference spaces that Nibabel uses.\n",
    "\"\"\"\n",
    "\n",
    "img.affine"
   ],
   "metadata": {
    "collapsed": false,
    "pycharm": {
     "name": "#%%\n",
     "is_executing": false
    }
   }
  },
  {
   "cell_type": "code",
   "execution_count": 18,
   "outputs": [
    {
     "data": {
      "text/plain": "('mm', 'sec')"
     },
     "metadata": {},
     "output_type": "execute_result",
     "execution_count": 18
    }
   ],
   "source": [
    "# Get image header information\n",
    "header = img.header\n",
    "header.get_xyzt_units()\n",
    "\n"
   ],
   "metadata": {
    "collapsed": false,
    "pycharm": {
     "name": "#%%\n",
     "is_executing": false
    }
   }
  },
  {
   "cell_type": "code",
   "execution_count": 19,
   "outputs": [
    {
     "name": "stdout",
     "text": [
      "<class 'nibabel.nifti1.Nifti1Header'> object, endian='<'\nsizeof_hdr      : 348\ndata_type       : b''\ndb_name         : b''\nextents         : 0\nsession_error   : 0\nregular         : b'r'\ndim_info        : 0\ndim             : [  4  64  64  33 300   1   1   1]\nintent_p1       : 0.0\nintent_p2       : 0.0\nintent_p3       : 0.0\nintent_code     : none\ndatatype        : int16\nbitpix          : 16\nslice_start     : 0\npixdim          : [-1.     3.125  3.125  4.     2.     0.     0.     0.   ]\nvox_offset      : 0.0\nscl_slope       : nan\nscl_inter       : nan\nslice_end       : 0\nslice_code      : unknown\nxyzt_units      : 10\ncal_max         : 0.0\ncal_min         : 0.0\nslice_duration  : 0.0\ntoffset         : 0.0\nglmax           : 0\nglmin           : 0\ndescrip         : b'FSL4.0'\naux_file        : b''\nqform_code      : scanner\nsform_code      : aligned\nquatern_b       : 0.0\nquatern_c       : -1.0\nquatern_d       : 0.0\nqoffset_x       : 97.93152\nqoffset_y       : -68.01921\nqoffset_z       : -106.650566\nsrow_x          : [-3.125    0.       0.      99.60422]\nsrow_y          : [   0.         3.125      0.      -110.13224]\nsrow_z          : [  0.         0.         4.       -54.885868]\nintent_name     : b''\nmagic           : b'n+1'\n"
     ],
     "output_type": "stream"
    }
   ],
   "source": [
    "print(header)"
   ],
   "metadata": {
    "collapsed": false,
    "pycharm": {
     "name": "#%%\n",
     "is_executing": false
    }
   }
  },
  {
   "cell_type": "code",
   "execution_count": 24,
   "outputs": [
    {
     "name": "stderr",
     "text": [
      "/Users/staceyrivet/Desktop/projects/fmri/venv/lib/python3.7/site-packages/ipykernel_launcher.py:2: DeprecationWarning: get_data() is deprecated in favor of get_fdata(), which has a more predictable return type. To obtain get_data() behavior going forward, use numpy.asanyarray(img.dataobj).\n\n* deprecated from version: 3.0\n* Will raise <class 'nibabel.deprecator.ExpiredDeprecationError'> as of version: 5.0\n  \n"
     ],
     "output_type": "stream"
    },
    {
     "data": {
      "text/plain": "array([[[[ 0,  0,  0, ...,  0,  0,  0],\n         [ 0,  0,  0, ...,  0,  0,  0],\n         [ 0,  0,  0, ...,  0,  0,  0],\n         ...,\n         [ 0,  0,  0, ...,  0,  0,  0],\n         [ 0,  0,  0, ...,  0,  0,  0],\n         [ 0,  0,  0, ...,  0,  0,  0]],\n\n        [[ 0,  0,  0, ...,  0,  0,  0],\n         [ 0,  0,  0, ...,  0,  0,  0],\n         [ 0,  0,  0, ...,  0,  0,  0],\n         ...,\n         [ 0,  0,  0, ...,  0,  0,  0],\n         [ 0,  0,  0, ...,  0,  0,  0],\n         [ 0,  0,  0, ...,  0,  0,  0]],\n\n        [[ 0,  0,  0, ...,  0,  0,  0],\n         [ 0,  0,  0, ...,  0,  0,  0],\n         [ 0,  0,  0, ...,  0,  0,  0],\n         ...,\n         [ 0,  0,  0, ...,  0,  0,  0],\n         [ 0,  0,  0, ...,  0,  0,  0],\n         [ 0,  0,  0, ...,  0,  0,  0]],\n\n        ...,\n\n        [[ 0,  0,  0, ...,  0,  0,  0],\n         [ 0,  0,  0, ...,  0,  0,  0],\n         [ 0,  0,  0, ...,  0,  0,  0],\n         ...,\n         [ 0,  0,  0, ...,  0,  0,  0],\n         [ 0,  0,  0, ...,  0,  0,  0],\n         [ 0,  0,  0, ...,  0,  0,  0]],\n\n        [[ 0,  0,  0, ...,  0,  0,  0],\n         [ 0,  0,  0, ...,  0,  0,  0],\n         [ 0,  0,  0, ...,  0,  0,  0],\n         ...,\n         [ 0,  0,  0, ...,  0,  0,  0],\n         [ 0,  0,  0, ...,  0,  0,  0],\n         [ 0,  0,  0, ...,  0,  0,  0]],\n\n        [[ 0,  0,  0, ...,  0,  0,  0],\n         [ 0,  0,  0, ...,  0,  0,  0],\n         [ 0,  0,  0, ...,  0,  0,  0],\n         ...,\n         [ 0,  0,  0, ...,  0,  0,  0],\n         [ 0,  0,  0, ...,  0,  0,  0],\n         [ 0,  0,  0, ...,  0,  0,  0]]],\n\n\n       [[[ 8, 12, 16, ..., 11, 19, 20],\n         [13, 10,  4, ...,  8,  2,  8],\n         [ 3, 10,  6, ...,  9, 13, 22],\n         ...,\n         [11,  5,  7, ...,  5, 12, 25],\n         [14, 16,  3, ..., 13, 10, 15],\n         [17, 12,  8, ...,  7,  3, 23]],\n\n        [[ 9, 13, 15, ..., 11, 17, 20],\n         [10,  9,  4, ...,  7,  2,  9],\n         [ 5, 15,  9, ..., 13, 15, 26],\n         ...,\n         [20, 14,  7, ..., 16, 12,  3],\n         [12,  9, 13, ..., 20, 12,  2],\n         [ 7,  9,  3, ...,  8, 12, 20]],\n\n        [[14, 13, 11, ..., 10,  5, 20],\n         [ 3,  7,  4, ..., 13,  9, 11],\n         [17, 11, 13, ..., 10, 13, 18],\n         ...,\n         [13,  5, 10, ...,  4, 13,  3],\n         [ 6, 13,  5, ..., 16, 10,  7],\n         [ 4, 25,  2, ..., 16,  7, 16]],\n\n        ...,\n\n        [[ 3, 25,  7, ...,  5, 10, 22],\n         [10, 15, 14, ...,  1, 16,  4],\n         [ 3, 22, 14, ...,  7,  9,  4],\n         ...,\n         [20,  6,  3, ...,  7, 13,  5],\n         [ 4,  6, 22, ...,  3, 13,  9],\n         [14,  6,  9, ..., 13,  8,  6]],\n\n        [[23,  5,  9, ..., 11, 12,  9],\n         [15,  8, 10, ...,  1,  6, 12],\n         [15, 11,  5, ..., 16, 11,  7],\n         ...,\n         [ 5, 11, 10, ...,  9,  9, 15],\n         [21,  9, 19, ...,  9,  9,  7],\n         [10,  8,  8, ...,  6,  5, 12]],\n\n        [[ 3, 11,  6, ...,  4, 15, 10],\n         [14, 31,  9, ...,  8, 18,  1],\n         [ 1,  7,  7, ..., 16, 13, 14],\n         ...,\n         [ 8, 16, 12, ..., 16,  9, 11],\n         [17, 10, 23, ...,  9,  6, 16],\n         [19,  8, 19, ..., 13,  8,  8]]],\n\n\n       [[[ 8,  7, 12, ..., 13, 10, 18],\n         [12,  7,  9, ...,  4, 10, 12],\n         [13,  5, 15, ..., 17, 14, 13],\n         ...,\n         [12,  3, 22, ...,  5, 12,  6],\n         [11, 17, 13, ..., 12,  3, 10],\n         [ 7, 11, 11, ...,  5, 11,  8]],\n\n        [[ 8,  7, 13, ..., 13,  8, 16],\n         [13,  9, 11, ...,  5, 11, 12],\n         [ 8,  7, 10, ..., 13, 17, 12],\n         ...,\n         [11,  2,  2, ...,  4, 11,  9],\n         [12,  7,  3, ..., 13, 10, 12],\n         [ 2, 15, 19, ...,  6,  8,  7]],\n\n        [[20,  5, 11, ..., 12, 14,  9],\n         [14, 14,  9, ...,  7, 10, 13],\n         [ 7, 15,  3, ...,  9, 11,  9],\n         ...,\n         [17,  9,  7, ...,  9,  4,  7],\n         [ 4,  3, 17, ...,  8, 14,  5],\n         [20,  7, 10, ..., 12, 10,  3]],\n\n        ...,\n\n        [[10,  5,  4, ...,  8, 10, 18],\n         [11,  8, 13, ...,  6, 10,  9],\n         [ 8,  4, 17, ..., 11,  6, 17],\n         ...,\n         [ 4, 12,  9, ...,  8,  1,  8],\n         [ 5, 13,  9, ...,  7, 19,  7],\n         [10, 10, 13, ..., 15,  8, 25]],\n\n        [[22, 14,  9, ..., 13,  7, 18],\n         [12,  5, 15, ..., 17, 17,  6],\n         [ 9, 11,  8, ...,  7,  2, 17],\n         ...,\n         [10, 17, 11, ...,  4, 13, 13],\n         [ 5, 24, 12, ...,  8,  2, 16],\n         [ 7, 14,  7, ...,  7,  1, 17]],\n\n        [[11, 10,  7, ..., 14,  7, 15],\n         [18, 14,  7, ..., 11, 12, 16],\n         [13,  2,  5, ...,  3,  9,  6],\n         ...,\n         [27,  8, 13, ..., 11, 14, 10],\n         [ 7, 17, 16, ..., 12,  7, 12],\n         [ 6, 13, 14, ...,  3,  6, 25]]],\n\n\n       ...,\n\n\n       [[[11, 14, 11, ...,  5, 12, 10],\n         [15,  6,  5, ...,  7, 16,  3],\n         [ 8,  6,  9, ..., 16, 10,  8],\n         ...,\n         [ 3,  5,  3, ..., 12,  4, 25],\n         [ 4, 11,  3, ...,  3,  8,  8],\n         [18,  9,  4, ...,  9,  9,  7]],\n\n        [[12, 14, 11, ...,  6, 11,  9],\n         [15,  6,  4, ...,  7, 12,  3],\n         [ 6,  3, 10, ..., 21,  6,  5],\n         ...,\n         [22, 16, 13, ...,  9, 14, 15],\n         [17,  7,  6, ..., 10,  5,  5],\n         [ 8,  1, 12, ...,  4, 12,  6]],\n\n        [[ 6,  4,  7, ..., 16, 10,  2],\n         [14, 13,  8, ...,  7, 13,  2],\n         [ 6,  6, 16, ..., 15, 14,  2],\n         ...,\n         [15, 10, 14, ...,  5,  4, 14],\n         [ 6, 10,  7, ...,  6, 16, 25],\n         [ 8, 11,  3, ..., 12,  0,  3]],\n\n        ...,\n\n        [[ 4, 12, 12, ..., 16,  3,  3],\n         [15,  9,  6, ...,  9,  7, 13],\n         [18,  6,  9, ...,  8,  3, 14],\n         ...,\n         [ 4, 12,  0, ..., 20, 10,  9],\n         [ 8,  9,  7, ..., 18,  6, 13],\n         [13,  4,  6, ..., 11,  7, 22]],\n\n        [[13, 14, 20, ..., 19,  3, 12],\n         [ 8,  8,  7, ..., 17, 22, 10],\n         [ 6,  4, 12, ...,  4, 20,  8],\n         ...,\n         [ 7,  7,  2, ...,  6, 19, 14],\n         [ 6, 10, 28, ...,  2, 12, 14],\n         [ 5, 12, 15, ...,  8, 10,  2]],\n\n        [[ 4,  9, 13, ...,  4, 20,  6],\n         [11,  6, 16, ...,  9,  8,  6],\n         [ 7,  9,  5, ..., 19, 15,  7],\n         ...,\n         [15,  4,  5, ...,  7,  5, 11],\n         [22, 21, 20, ...,  9, 16, 26],\n         [ 8,  6, 18, ..., 12, 17,  6]]],\n\n\n       [[[12, 11,  8, ...,  4, 10,  6],\n         [ 6,  9,  4, ..., 11,  6,  7],\n         [11,  6,  7, ..., 12,  4, 14],\n         ...,\n         [ 1,  9, 14, ...,  9, 10, 13],\n         [15, 19,  8, ..., 12,  5,  4],\n         [ 8,  6,  8, ..., 10,  6, 19]],\n\n        [[14, 11,  7, ...,  4, 11,  5],\n         [ 8,  8,  5, ...,  8,  7,  6],\n         [10,  5, 14, ..., 13,  5, 11],\n         ...,\n         [ 7, 23,  5, ...,  5, 10, 14],\n         [18, 14, 12, ...,  5,  2,  7],\n         [16, 11,  5, ...,  7, 19,  7]],\n\n        [[13, 13,  1, ...,  2, 12, 11],\n         [17,  8,  8, ...,  5, 11, 12],\n         [ 8, 11, 13, ..., 11,  2,  9],\n         ...,\n         [ 5, 12, 14, ...,  4, 23, 19],\n         [12,  7, 23, ...,  1, 16, 10],\n         [ 8,  5, 19, ..., 14, 12, 13]],\n\n        ...,\n\n        [[ 9, 21, 16, ..., 14,  4, 10],\n         [ 9,  9, 11, ...,  2, 18, 24],\n         [10, 15, 11, ...,  5,  3, 11],\n         ...,\n         [ 7, 10,  7, ...,  8,  9,  8],\n         [12, 10,  7, ...,  7, 18,  1],\n         [ 5,  8,  2, ...,  2,  3, 14]],\n\n        [[ 5,  9,  8, ...,  9, 11,  8],\n         [ 7, 11, 17, ...,  5, 13,  9],\n         [ 9, 14, 14, ...,  9,  8,  6],\n         ...,\n         [ 8,  4, 19, ..., 12,  4,  1],\n         [ 8,  3, 11, ...,  8,  2,  3],\n         [15, 12,  4, ...,  5,  4, 19]],\n\n        [[11,  9, 13, ..., 11, 15,  9],\n         [ 4, 19,  5, ...,  7,  8, 14],\n         [ 6, 19,  5, ...,  8, 16,  7],\n         ...,\n         [ 2,  9,  7, ...,  7, 16,  7],\n         [15, 18, 13, ..., 11, 21,  6],\n         [ 4, 11, 13, ..., 18, 12,  8]]],\n\n\n       [[[ 9,  9, 16, ...,  6, 16, 13],\n         [ 4, 18,  5, ...,  6,  9,  8],\n         [ 4, 12, 11, ..., 11, 17,  9],\n         ...,\n         [18,  1,  7, ...,  2,  3,  6],\n         [ 4,  1,  2, ...,  6, 18, 20],\n         [ 6,  1,  5, ...,  4, 10, 10]],\n\n        [[ 9,  9, 16, ...,  6, 15, 13],\n         [ 6, 17,  5, ...,  4, 11,  7],\n         [ 3,  8, 15, ..., 14, 19,  8],\n         ...,\n         [17,  5, 12, ..., 18, 19, 14],\n         [ 3, 10, 11, ..., 12,  4,  9],\n         [ 6,  5,  3, ...,  3, 14, 11]],\n\n        [[14,  8,  8, ...,  8,  5, 15],\n         [ 8, 10,  8, ..., 10, 21,  7],\n         [ 6,  7, 11, ...,  6, 12,  7],\n         ...,\n         [ 8,  7,  9, ...,  4, 12,  8],\n         [ 6, 12,  4, ...,  9,  7, 15],\n         [ 5,  3, 15, ..., 18, 16,  7]],\n\n        ...,\n\n        [[10,  4, 13, ...,  6,  8,  7],\n         [ 2,  6,  9, ...,  8,  6,  8],\n         [13,  5,  5, ...,  9,  9,  5],\n         ...,\n         [ 0,  4,  9, ..., 22,  6,  9],\n         [ 8,  8,  7, ...,  2, 15,  1],\n         [11,  9,  8, ...,  6, 20,  8]],\n\n        [[14, 12,  2, ...,  6,  7, 18],\n         [16,  5, 15, ...,  5,  4, 14],\n         [14,  4,  9, ..., 13, 17, 10],\n         ...,\n         [ 8,  9,  6, ..., 11, 14,  3],\n         [ 9, 13,  2, ...,  4,  5,  9],\n         [10,  7,  6, ...,  3, 15,  0]],\n\n        [[12,  6, 23, ...,  3,  8,  1],\n         [ 8,  7, 14, ..., 12,  4, 16],\n         [ 4, 13,  5, ...,  2, 11, 11],\n         ...,\n         [ 6,  9,  7, ..., 10,  6, 10],\n         [ 0, 12, 12, ..., 10, 10, 11],\n         [11,  5, 11, ..., 22, 11,  4]]]], dtype=int16)"
     },
     "metadata": {},
     "output_type": "execute_result",
     "execution_count": 24
    }
   ],
   "source": [
    "# Get numerical data of image in 4D\n",
    "#image_data = img.get_fdata()\n",
    "image_data - img.get_data()\n",
    "image_data # This is the image in 4D"
   ],
   "metadata": {
    "collapsed": false,
    "pycharm": {
     "name": "#%%\n",
     "is_executing": false
    }
   }
  },
  {
   "cell_type": "code",
   "execution_count": 40,
   "outputs": [
    {
     "data": {
      "text/plain": "(64, 64, 33)"
     },
     "metadata": {},
     "output_type": "execute_result",
     "execution_count": 40
    }
   ],
   "source": [
    "# This is the image sliced\n",
    "slice0 = image_data[:, :, :, 0]\n",
    "#slice1 = image_data[:, :, 1]\n",
    "slice0.shape\n",
    "\n",
    "\n",
    "\n"
   ],
   "metadata": {
    "collapsed": false,
    "pycharm": {
     "name": "#%%\n",
     "is_executing": false
    }
   }
  }
 ],
 "metadata": {
  "kernelspec": {
   "display_name": "Python 3",
   "language": "python",
   "name": "python3"
  },
  "language_info": {
   "codemirror_mode": {
    "name": "ipython",
    "version": 2
   },
   "file_extension": ".py",
   "mimetype": "text/x-python",
   "name": "python",
   "nbconvert_exporter": "python",
   "pygments_lexer": "ipython2",
   "version": "2.7.6"
  },
  "pycharm": {
   "stem_cell": {
    "cell_type": "raw",
    "source": [],
    "metadata": {
     "collapsed": false
    }
   }
  }
 },
 "nbformat": 4,
 "nbformat_minor": 0
}